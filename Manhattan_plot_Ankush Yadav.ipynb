{
 "cells": [
  {
   "cell_type": "code",
   "execution_count": null,
   "id": "543aaa16",
   "metadata": {},
   "outputs": [],
   "source": [
    "import pandas as pd"
   ]
  },
  {
   "cell_type": "code",
   "execution_count": null,
   "id": "833fdf3b",
   "metadata": {},
   "outputs": [],
   "source": [
    "df = pd.read_csv(\"AUTOMOBILE_SPEEDING_PROPENSITY_GWAS.txt\", sep='\\t')"
   ]
  },
  {
   "cell_type": "code",
   "execution_count": null,
   "id": "fb6670f3",
   "metadata": {},
   "outputs": [],
   "source": [
    "df.head(1000)"
   ]
  },
  {
   "cell_type": "code",
   "execution_count": null,
   "id": "14361b49",
   "metadata": {},
   "outputs": [],
   "source": [
    "import numpy as np"
   ]
  },
  {
   "cell_type": "code",
   "execution_count": null,
   "id": "4284da2d",
   "metadata": {},
   "outputs": [],
   "source": [
    "- np.log(df['Pval'])"
   ]
  },
  {
   "cell_type": "code",
   "execution_count": null,
   "id": "e94b106d",
   "metadata": {},
   "outputs": [],
   "source": [
    "df['-logP'] = - np.log(df['Pval'])\n",
    "df\n"
   ]
  },
  {
   "cell_type": "code",
   "execution_count": null,
   "id": "51491b01",
   "metadata": {},
   "outputs": [],
   "source": [
    "for chrom, group_df in df.groupby('CHR'):\n",
    "    print(chrom)"
   ]
  },
  {
   "cell_type": "code",
   "execution_count": null,
   "id": "dbb6d4e8",
   "metadata": {},
   "outputs": [],
   "source": [
    "for chrom, group_df in df.groupby('CHR'):\n",
    "    print(chrom,group_df['POS'].max())"
   ]
  },
  {
   "cell_type": "code",
   "execution_count": null,
   "id": "e16f9c4a",
   "metadata": {},
   "outputs": [],
   "source": [
    "running_pos = 0\n",
    "\n",
    "for chrom, group_df in df.groupby('CHR'):\n",
    "    print(chrom,group_df['POS'].max())\n",
    "    running_pos += group_df['POS'].max()"
   ]
  },
  {
   "cell_type": "code",
   "execution_count": null,
   "id": "a733f297",
   "metadata": {},
   "outputs": [],
   "source": [
    "running_pos = 0\n",
    "\n",
    "for chrom, group_df in df.groupby('CHR'):\n",
    "    print(chrom, running_pos)\n",
    "    running_pos += group_df['POS'].max()"
   ]
  },
  {
   "cell_type": "code",
   "execution_count": null,
   "id": "4f8a07ad",
   "metadata": {},
   "outputs": [],
   "source": [
    "running_pos = 0\n",
    "\n",
    "for chrom, group_df in df.groupby('CHR'):\n",
    "    print(chrom, group_df['POS'] + running_pos)\n",
    "    running_pos += group_df['POS'].max()"
   ]
  },
  {
   "cell_type": "code",
   "execution_count": null,
   "id": "425ea990",
   "metadata": {},
   "outputs": [],
   "source": [
    "running_pos = 0\n",
    "cumulative_pos = []\n",
    "\n",
    "for chrom, group_df in df.groupby('CHR'):\n",
    "    cumulative_pos.append(group_df['POS'] + running_pos)\n",
    "    running_pos += group_df['POS'].max()\n",
    "\n",
    "cumulative_pos"
   ]
  },
  {
   "cell_type": "code",
   "execution_count": null,
   "id": "b8fc9118",
   "metadata": {},
   "outputs": [],
   "source": [
    "running_pos = 0\n",
    "cumulative_pos = []\n",
    "\n",
    "for chrom, group_df in df.groupby('CHR'):\n",
    "    cumulative_pos.append(group_df['POS'] + running_pos)\n",
    "    running_pos += group_df['POS'].max()\n",
    "\n",
    "df['cumulative_pos'] = pd.concat(cumulative_pos)"
   ]
  },
  {
   "cell_type": "code",
   "execution_count": null,
   "id": "d4607254",
   "metadata": {},
   "outputs": [],
   "source": [
    "df"
   ]
  },
  {
   "cell_type": "code",
   "execution_count": null,
   "id": "8df1c3d2",
   "metadata": {},
   "outputs": [],
   "source": [
    "df['SNP Number'] = df.index\n",
    "df"
   ]
  },
  {
   "cell_type": "code",
   "execution_count": null,
   "id": "ce33caf0",
   "metadata": {},
   "outputs": [],
   "source": [
    "import seaborn as sns"
   ]
  },
  {
   "cell_type": "code",
   "execution_count": null,
   "id": "5333f10d",
   "metadata": {},
   "outputs": [],
   "source": [
    "%matplotlib inline"
   ]
  },
  {
   "cell_type": "code",
   "execution_count": null,
   "id": "0a07da7a",
   "metadata": {},
   "outputs": [],
   "source": [
    "sns.relplot(\n",
    "    data = df,\n",
    "    x = 'cumulative_pos',\n",
    "    y = '-logP'\n",
    ")"
   ]
  },
  {
   "cell_type": "code",
   "execution_count": null,
   "id": "5f70bc52",
   "metadata": {},
   "outputs": [],
   "source": [
    "sns.relplot(data = df.sample(100000) , x = 'cumulative_pos', y = '-logP', aspect = 4)"
   ]
  },
  {
   "cell_type": "code",
   "execution_count": null,
   "id": "d6955e90",
   "metadata": {},
   "outputs": [],
   "source": [
    "sns.relplot(data = df.sample(100000) , x = 'cumulative_pos', y = '-logP', aspect = 4, hue = 'CHR')"
   ]
  },
  {
   "cell_type": "code",
   "execution_count": null,
   "id": "2a79b0a6",
   "metadata": {},
   "outputs": [],
   "source": [
    "sns.relplot(data = df.sample(100000) , x = 'cumulative_pos', y = '-logP', aspect = 4, hue = 'CHR', palette = 'Set1')"
   ]
  },
  {
   "cell_type": "code",
   "execution_count": null,
   "id": "304107fb",
   "metadata": {},
   "outputs": [],
   "source": [
    "sns.relplot(data = df.sample(100000) , x = 'SNP Number', y = '-logP', aspect = 4, hue = 'CHR', palette = 'Set1')"
   ]
  },
  {
   "cell_type": "code",
   "execution_count": null,
   "id": "a6137a9c",
   "metadata": {},
   "outputs": [],
   "source": [
    "g = sns.relplot(data = df.sample(100000) , x = 'cumulative_pos', y = '-logP', aspect = 4, hue = 'CHR', palette = 'Set1', linewidth = 0, s = 6, legend = None)\n",
    "g"
   ]
  },
  {
   "cell_type": "code",
   "execution_count": null,
   "id": "033ffcbe",
   "metadata": {},
   "outputs": [],
   "source": [
    "g = sns.relplot(data = df.sample(100000) , x = 'cumulative_pos', y = '-logP', aspect = 4, hue = 'CHR', palette = 'Set1', linewidth = 0, s = 6, legend = None)\n",
    "g.ax.set_label('Chromosome')"
   ]
  },
  {
   "cell_type": "code",
   "execution_count": null,
   "id": "b6eadb3f",
   "metadata": {},
   "outputs": [],
   "source": [
    "df.groupby('CHR')['cumulative_pos'].median()"
   ]
  },
  {
   "cell_type": "code",
   "execution_count": null,
   "id": "7a520071",
   "metadata": {},
   "outputs": [],
   "source": [
    "g = sns.relplot(data = df.sample(100000) , x = 'cumulative_pos', y = '-logP', aspect = 4, hue = 'CHR', palette = 'Set1', linewidth = 0, s = 6, legend = None)\n",
    "g.ax.set_label('Chromosome')\n",
    "g.ax.set_xticks(df.groupby('CHR')['cumulative_pos'].median())"
   ]
  },
  {
   "cell_type": "code",
   "execution_count": null,
   "id": "eba6a338",
   "metadata": {},
   "outputs": [],
   "source": [
    "g = sns.relplot(data = df.sample(100000) , x = 'cumulative_pos', y = '-logP', aspect = 4, hue = 'CHR', palette = 'Set1', linewidth = 0, s = 6, legend = None)\n",
    "g.ax.set_label('Chromosome')\n",
    "g.ax.set_xticks(df.groupby('CHR')['cumulative_pos'].median())\n",
    "g.ax.set_xticklables(df['CHR'].unique())"
   ]
  },
  {
   "cell_type": "code",
   "execution_count": null,
   "id": "9cee7fbf",
   "metadata": {},
   "outputs": [],
   "source": [
    "g = sns.relplot(data = df.sample(100000) , x = 'cumulative_pos', y = '-logP', aspect = 4, hue = 'CHR', palette = ['green', 'yellow']*11, linewidth = 0, s = 6, legend = None)\n",
    "g.ax.set_label('Chromosome')\n",
    "g.ax.set_xticks(df.groupby('CHR')['cumulative_pos'].median())\n",
    "g.ax.set_xticklables(df['CHR'].unique())"
   ]
  },
  {
   "cell_type": "code",
   "execution_count": null,
   "id": "d08d226e",
   "metadata": {},
   "outputs": [],
   "source": [
    "df['color group'] = df['CHR'].apply(lambda x : 'A' if x % 2 == 0 else 'B')\n",
    "df"
   ]
  },
  {
   "cell_type": "code",
   "execution_count": null,
   "id": "9703805d",
   "metadata": {},
   "outputs": [],
   "source": [
    "g = sns.relplot(data = df.sample(100000) , x = 'cumulative_pos', y = '-logP', aspect = 4, hue = 'color group', palette = ['green', 'yellow'], linewidth = 0, s = 6, legend = None)\n",
    "g.ax.set_label('Chromosome')\n",
    "g.ax.set_xticks(df.groupby('CHR')['cumulative_pos'].median())\n",
    "g.ax.set_xticklables(df['CHR'].unique())"
   ]
  },
  {
   "cell_type": "code",
   "execution_count": null,
   "id": "15bf5132",
   "metadata": {},
   "outputs": [],
   "source": [
    "df['color group'] = df['CHR'].apply(lambda x : 'A' if x % 2 == 0 else 'B')\n",
    "df.loc[df['CHR'] == 3, 'color group'] = 'C'\n",
    "df"
   ]
  },
  {
   "cell_type": "code",
   "execution_count": null,
   "id": "3b9e8713",
   "metadata": {},
   "outputs": [],
   "source": [
    "df['color group'] = df['CHR'].apply(lambda x : 'A' if x % 2 == 0 else 'B')\n",
    "df.loc[df['CHR'] == 3, 'color group'] = 'C'\n",
    "\n",
    "g = sns.relplot(data = df.sample(100000) , x = 'cumulative_pos', y = '-logP', aspect = 4, hue = 'color group', palette = ['green', 'yellow', 'red'], linewidth = 0, s = 6, legend = None)\n",
    "g.ax.set_label('Chromosome')\n",
    "g.ax.set_xticks(df.groupby('CHR')['cumulative_pos'].median())\n",
    "g.ax.set_xticklables(df['CHR'].unique())"
   ]
  },
  {
   "cell_type": "code",
   "execution_count": null,
   "id": "6892d656",
   "metadata": {},
   "outputs": [],
   "source": [
    "df['color group'] = df['CHR'].apply(lambda x : 'A' if x % 2 == 0 else 'B')\n",
    "df.loc[(df['CHR'] == 3) & (df['POS'] < 50000000, 'color group'] = 'C'\n",
    "\n",
    "g = sns.relplot(data = df.sample(100000) , x = 'cumulative_pos', y = '-logP', aspect = 4, hue = 'color group', palette = ['green', 'yellow', 'red'], linewidth = 0, s = 6, legend = None)\n",
    "g.ax.set_label('Chromosome')\n",
    "g.ax.set_xticks(df.groupby('CHR')['cumulative_pos'].medium())\n",
    "g.ax.set_xticklables(df['CHR'].unique())\n",
    "g = sns.relplot(data = df.sample(100000) , x = 'cumulative_pos', y = '-logP', aspect = 4, hue = 'color group', palette = ['green', 'yellow', 'red'], linewidth = 0, s = 6, legend = None)\n",
    "g.ax.set_label('Chromosome')\n",
    "g.ax.set_xticks(df.groupby('CHR')['cumulative_pos'].median())\n",
    "g.ax.set_xticklables(df['CHR'].unique())"
   ]
  },
  {
   "cell_type": "code",
   "execution_count": null,
   "id": "7ca5420c",
   "metadata": {},
   "outputs": [],
   "source": [
    "#if you want to grab randomly marker_name\n",
    "#my_markers = df['MarkerName'].sample(100)\n",
    "# df['color group'] = df['CHR'].apply(lambda x : 'A' if x % 2 == 0 else 'B')\n",
    "#df.loc[(df['MarkerName'].isin(my_markers), 'color group'] = 'C'\n",
    "#df\n",
    "#g = sns.relplot(data = df.sample(100000) , x = 'cumulative_pos', y = '-logP', aspect = 4, hue = 'color group', palette = ['green', 'yellow', 'red'], linewidth = 0, s = 6, legend = None)\n",
    "#g.ax.set_label('Chromosome')\n",
    "#g.ax.set_xticks(df.groupby('CHR')['cumulative_pos'].medium())\n",
    "#g.ax.set_xticklables(df['CHR'].unique())\n",
    "#g = sns.relplot(data = df.sample(100000) , x = 'cumulative_pos', y = '-logP', aspect = 4, hue = 'color group', palette = ['green', 'yellow', 'red'], linewidth = 0, s = 6, legend = None)\n",
    "#g.ax.set_label('Chromosome')\n",
    "#g.ax.set_xticks(df.groupby('CHR')['cumulative_pos'].medium())\n",
    "#g.ax.set_xticklables(df['CHR'].unique())"
   ]
  },
  {
   "cell_type": "code",
   "execution_count": null,
   "id": "50b871e3",
   "metadata": {},
   "outputs": [],
   "source": [
    "df['color group'] = df['CHR'].apply(lambda x : 'A' if x % 2 == 0 else 'B')\n",
    "df.loc[(df['CHR'] == 3) & (df['POS'] < 50000000, 'color group'] = 'C'\n",
    "df\n",
    "g = sns.relplot(data = df.sample(100000) , x = 'cumulative_pos', y = '-logP', aspect = 4, hue = 'color group', palette = ['green', 'yellow', 'red'], linewidth = 0, s = 6, legend = None)\n",
    "g.ax.set_label('Chromosome')\n",
    "g.ax.set_xticks(df.groupby('CHR')['cumulative_pos'].medium())\n",
    "g.ax.set_xticklables(df['CHR'].unique())\n",
    "g = sns.relplot(data = df.sample(100000) , x = 'cumulative_pos', y = '-logP', aspect = 4, hue = 'color group', palette = ['green', 'yellow', 'red'], linewidth = 0, s = 6, legend = None)\n",
    "g.ax.set_label('Chromosome')\n",
    "g.ax.set_xticks(df.groupby('CHR')['cumulative_pos'].median())\n",
    "g.ax.set_xticklables(df['CHR'].unique())\n",
    "g.ax.axhline(12, linestyle='--', linewidth = 1)"
   ]
  },
  {
   "cell_type": "code",
   "execution_count": null,
   "id": "362c4ad1",
   "metadata": {},
   "outputs": [],
   "source": [
    "df['color group'] = df['CHR'].apply(lambda x : 'A' if x % 2 == 0 else 'B')\n",
    "df.loc[(df['CHR'] == 3) & (df['POS'] < 50000000, 'color group'] = 'C'\n",
    "\n",
    "g = sns.relplot(data = df.sample(100000) , x = 'cumulative_pos', y = '-logP', aspect = 4, hue = 'color group', palette = ['green', 'yellow', 'red'], linewidth = 0, s = 6, legend = None, row = 'A1')\n",
    "                           "
   ]
  },
  {
   "cell_type": "code",
   "execution_count": null,
   "id": "0532e5d9",
   "metadata": {},
   "outputs": [],
   "source": [
    "df['color group'] = df['CHR'].apply(lambda x : 'A' if x % 2 == 0 else 'B')\n",
    "df.loc[(df['CHR'] == 3) & (df['POS'] < 50000000, 'color group'] = 'C'\n",
    "\n",
    "g = sns.relplot(data = df.sample(100000) , x = 'cumulative_pos', y = '-logP', aspect = 4, hue = 'color group', palette = ['green', 'yellow', 'red'], linewidth = 0, s = 6, legend = None, row = 'A1')\n",
    "for ax in g.axes.flat:\n",
    "    ax.set_label('Chromosome')\n",
    "    ax.set_xticks(df.groupby('CHR')['cumulative_pos'].median())\n",
    "    ax.set_xticklables(df['CHR'].unique())\n",
    "    ax.axhline(12, linestyle='--', linewidth = 1)                       "
   ]
  },
  {
   "cell_type": "code",
   "execution_count": null,
   "id": "d00099bf",
   "metadata": {},
   "outputs": [],
   "source": [
    "my_data = df.sample(100000)\n",
    "g = sns.relplot(data = my_data, x = 'cumulative_pos', y = '-logP', aspect = 4, hue = 'CHR', palette = ['green', 'yellow']*11, linewidth = 0, s = 6, legend = None)\n",
    "g.ax.set_label('Chromosome')\n",
    "g.ax.set_xticks(df.groupby('CHR')['cumulative_pos'].median())\n",
    "g.ax.set_xticklables(df['CHR'].unique())\n"
   ]
  },
  {
   "cell_type": "code",
   "execution_count": null,
   "id": "d1519611",
   "metadata": {},
   "outputs": [],
   "source": [
    "my_data[my_data['-logP'] > 20]\n"
   ]
  },
  {
   "cell_type": "code",
   "execution_count": null,
   "id": "7efa8ee4",
   "metadata": {},
   "outputs": [],
   "source": [
    "my_data = df.sample(100000)\n",
    "g = sns.relplot(data = my_data, x = 'cumulative_pos', y = '-logP', aspect = 4, hue = 'CHR', palette = ['green', 'yellow']*11, linewidth = 0, s = 6, legend = None)\n",
    "g.ax.set_label('Chromosome')\n",
    "g.ax.set_xticks(df.groupby('CHR')['cumulative_pos'].median())\n",
    "g.ax.set_xticklables(df['CHR'].unique())\n",
    "my_data[my_data['-logP'] > 20].apply(lambda p : g.ax.annotate(p['MarkerName'], (p['cumulative_pos'], p['-logP'])), axis=1)"
   ]
  },
  {
   "cell_type": "code",
   "execution_count": null,
   "id": "30f31888",
   "metadata": {},
   "outputs": [],
   "source": [
    "import adjustText\n",
    "from adjustText import adjust_text\n",
    "\n",
    "my_data = df.sample(100000)\n",
    "g = sns.relplot(data = my_data, x = 'cumulative_pos', y = '-logP', aspect = 4, hue = 'CHR', palette = ['green', 'yellow']*11, linewidth = 0, s = 6, legend = None)\n",
    "g.ax.set_label('Chromosome')\n",
    "g.ax.set_xticks(df.groupby('CHR')['cumulative_pos'].median())\n",
    "g.ax.set_xticklables(df['CHR'].unique())\n",
    "annotations = my_data[my_data['-logP'] > 20].apply(lambda p : g.ax.annotate(p['MarkerName'], (p['cumulative_pos'], p['-logP'])), axis=1).to_list()\n",
    "adjust_text(annotations)"
   ]
  },
  {
   "cell_type": "code",
   "execution_count": null,
   "id": "b9850c7a",
   "metadata": {},
   "outputs": [],
   "source": [
    "import adjustText\n",
    "from adjustText import adjust_text\n",
    "\n",
    "my_data = df.sample(100000)\n",
    "g = sns.relplot(data = my_data, x = 'cumulative_pos', y = '-logP', aspect = 4, hue = 'CHR', palette = ['green', 'yellow']*11, linewidth = 0, s = 6, legend = None)\n",
    "g.ax.set_label('Chromosome')\n",
    "g.ax.set_xticks(df.groupby('CHR')['cumulative_pos'].median())\n",
    "g.ax.set_xticklables(df['CHR'].unique())\n",
    "annotations = my_data[my_data['-logP'] > 20].apply(lambda p : g.ax.annotate(p['MarkerName'], (p['cumulative_pos'], p['-logP'])), axis=1).to_list()\n",
    "adjust_text(annotations, arrowprops = {'arrowstyle' : '>', 'color' : 'purple'})"
   ]
  },
  {
   "cell_type": "code",
   "execution_count": null,
   "id": "ec16bf1a",
   "metadata": {},
   "outputs": [],
   "source": []
  }
 ],
 "metadata": {
  "kernelspec": {
   "display_name": "Python 3 (ipykernel)",
   "language": "python",
   "name": "python3"
  },
  "language_info": {
   "codemirror_mode": {
    "name": "ipython",
    "version": 3
   },
   "file_extension": ".py",
   "mimetype": "text/x-python",
   "name": "python",
   "nbconvert_exporter": "python",
   "pygments_lexer": "ipython3",
   "version": "3.9.7"
  }
 },
 "nbformat": 4,
 "nbformat_minor": 5
}
